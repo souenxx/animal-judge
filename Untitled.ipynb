{
 "cells": [
  {
   "cell_type": "code",
   "execution_count": 3,
   "metadata": {},
   "outputs": [],
   "source": [
    "from PIL import Image\n",
    "import os,glob\n",
    "import numpy as np\n",
    "from sklearn import model_selection\n",
    "\n",
    "classes=[\"monkey\",\"boar\",\"crow\"]\n",
    "num_classes=len(classes)\n",
    "image_size=50\n",
    "\n",
    "#画像の読み込み\n",
    "X=[]\n",
    "Y=[]\n",
    "for index, classlabel in enumerate(classes):\n",
    "    photos_dir=\"./\"+classlabel\n",
    "    files=glob.glob(photos_dir+\"/*.jpg\")\n",
    "    for i, file in enumerate(files):\n",
    "        if i >= 150: break\n",
    "        image=Image.open(file)\n",
    "        image=image.convert(\"RGB\")\n",
    "        image=image.resize((image_size,image_size))\n",
    "        data=np.asarray(image)\n",
    "        X.append(data)\n",
    "        Y.append(index)\n",
    "X=np.array(X)\n",
    "Y=np.array(Y)\n",
    "\n",
    "X_train,X_test,Y_train,Y_test=model_selection.train_test_split(X,Y)\n",
    "xy=(X_train,X_test,Y_train,Y_test)"
   ]
  },
  {
   "cell_type": "code",
   "execution_count": 4,
   "metadata": {},
   "outputs": [
    {
     "data": {
      "text/plain": [
       "337"
      ]
     },
     "execution_count": 4,
     "metadata": {},
     "output_type": "execute_result"
    }
   ],
   "source": [
    "len(X_train)"
   ]
  },
  {
   "cell_type": "code",
   "execution_count": 5,
   "metadata": {},
   "outputs": [
    {
     "data": {
      "text/plain": [
       "array([[[ 55,  53,  30],\n",
       "        [ 40,  37,  20],\n",
       "        [ 61,  60,  32],\n",
       "        ...,\n",
       "        [ 72,  71,  51],\n",
       "        [101,  98,  81],\n",
       "        [ 84,  83,  62]],\n",
       "\n",
       "       [[ 58,  56,  43],\n",
       "        [ 33,  31,  19],\n",
       "        [122, 122,  96],\n",
       "        ...,\n",
       "        [ 84,  84,  60],\n",
       "        [105, 102,  69],\n",
       "        [100,  99,  51]],\n",
       "\n",
       "       [[ 73,  71,  48],\n",
       "        [ 44,  41,  26],\n",
       "        [ 70,  68,  43],\n",
       "        ...,\n",
       "        [ 94,  93,  47],\n",
       "        [109, 104,  72],\n",
       "        [109, 106,  61]],\n",
       "\n",
       "       ...,\n",
       "\n",
       "       [[ 58,  50,  31],\n",
       "        [163, 153, 126],\n",
       "        [116, 114,  91],\n",
       "        ...,\n",
       "        [121, 114,  88],\n",
       "        [124, 120,  93],\n",
       "        [111, 110,  79]],\n",
       "\n",
       "       [[107, 100,  82],\n",
       "        [ 80,  74,  52],\n",
       "        [173, 169, 132],\n",
       "        ...,\n",
       "        [130, 125, 105],\n",
       "        [127, 124,  93],\n",
       "        [140, 138, 113]],\n",
       "\n",
       "       [[124, 119,  89],\n",
       "        [133, 128,  99],\n",
       "        [113, 108,  76],\n",
       "        ...,\n",
       "        [101,  88,  80],\n",
       "        [ 87,  75,  63],\n",
       "        [ 84,  83,  55]]], dtype=uint8)"
      ]
     },
     "execution_count": 5,
     "metadata": {},
     "output_type": "execute_result"
    }
   ],
   "source": [
    "X_train[0]"
   ]
  },
  {
   "cell_type": "code",
   "execution_count": 6,
   "metadata": {},
   "outputs": [
    {
     "data": {
      "text/plain": [
       "1"
      ]
     },
     "execution_count": 6,
     "metadata": {},
     "output_type": "execute_result"
    }
   ],
   "source": [
    "Y_train[0]"
   ]
  },
  {
   "cell_type": "code",
   "execution_count": null,
   "metadata": {},
   "outputs": [],
   "source": []
  }
 ],
 "metadata": {
  "kernelspec": {
   "display_name": "Python 3",
   "language": "python",
   "name": "python3"
  },
  "language_info": {
   "codemirror_mode": {
    "name": "ipython",
    "version": 3
   },
   "file_extension": ".py",
   "mimetype": "text/x-python",
   "name": "python",
   "nbconvert_exporter": "python",
   "pygments_lexer": "ipython3",
   "version": "3.7.5"
  }
 },
 "nbformat": 4,
 "nbformat_minor": 2
}
